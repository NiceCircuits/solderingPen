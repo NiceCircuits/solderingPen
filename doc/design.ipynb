{
 "cells": [
  {
   "cell_type": "markdown",
   "metadata": {},
   "source": [
    "# Soldering pen design"
   ]
  },
  {
   "cell_type": "markdown",
   "metadata": {},
   "source": [
    "Initialization of iPython, some helper functions."
   ]
  },
  {
   "cell_type": "code",
   "execution_count": 2,
   "metadata": {
    "code_folding": [],
    "collapsed": false,
    "hide_input": false,
    "run_control": {
     "marked": true
    }
   },
   "outputs": [],
   "source": [
    "%matplotlib inline\n",
    "import numpy as np\n",
    "import matplotlib.pyplot as plt\n",
    "plt.style.use('ggplot')\n",
    "\n",
    "def readCsvData(fileName):\n",
    "    return np.genfromtxt(fileName, delimiter=';')\n",
    "\n",
    "def plotData(data, timebase=1, xlabel=\"\", ylabel=\"\",names=[]):\n",
    "    fig=plt.figure(figsize=[10,5])\n",
    "    l = np.size(data,0)\n",
    "    time = np.linspace(0,l-1,l)*timebase\n",
    "    if np.ndim(data)>1: # If more than one vector to plot\n",
    "        count = np.size(data,1)\n",
    "        for i in range(count):\n",
    "            plt.plot(time, data[:,i], label=names[i])\n",
    "    else:\n",
    "        plt.plot(time, data, label=names[0])\n",
    "    plt.xlabel(xlabel)\n",
    "    plt.ylabel(ylabel)\n",
    "    plt.legend()\n",
    "    plt.plot()\n",
    "    \n",
    "def plotCsv(fileName, timebase=1, xlabel=\"\", ylabel=\"\",names=[]):\n",
    "    data = readCsvData(fileName)\n",
    "    plotData(data, timebase, xlabel, ylabel,names)"
   ]
  },
  {
   "cell_type": "markdown",
   "metadata": {},
   "source": [
    "## Magnetometer"
   ]
  },
  {
   "cell_type": "markdown",
   "metadata": {},
   "source": [
    "Permanent neodymium magnet is mounted in soldering iron stand. On board MEMS magnetometer is used to sense its' proximity. If magnet is detected, soldering iron goes to sleep mode after programmed time.\n",
    "MAG3110 has full scale range of $\\pm 1000 \\mu T$. Zero flux offset is typically $\\pm 100 \\mu T$. It's large, compared to typical geomagnetic field strength of $25\\ldots60 \\mu T$. Zero offset calibration is desirable."
   ]
  },
  {
   "cell_type": "markdown",
   "metadata": {},
   "source": [
    "### Magnitude calculation\n",
    "For calculating magnitude of magnetic field flux density from X, Y, Z readings, following formula should be used:\n",
    "\n",
    "$$m=\\sqrt{x^2+y^2+z^2}$$\n",
    "\n",
    "To minimize calculations, approximation will be used. Derivative of alpha max plus beta min algorithm will be used:\n",
    "\n",
    "$$m_{appr}=a*abs(x)+b*abs(y)+c*abs(z)$$\n",
    "\n",
    "Simple values for a, b, c are selected:\n",
    "\n",
    "$$m_{appr}=1*abs(x)+\\frac{1}{2}*abs(y)+\\frac{1}{4}*abs(z)$$\n",
    "\n",
    "Let's calculate error of this formula."
   ]
  },
  {
   "cell_type": "code",
   "execution_count": 6,
   "metadata": {
    "collapsed": false
   },
   "outputs": [
    {
     "name": "stdout",
     "output_type": "stream",
     "text": [
      "Max error:  1.14564392374 , min error: 1.00739926511\n"
     ]
    }
   ],
   "source": [
    "a=np.linspace(0.01,1,100) # max parameter change\n",
    "data=[[[[x,y,z] for x in a] for y in a] for z in a] # generate all possible triplets\n",
    "mag=[[[np.sqrt(x*x+y*y+z*z) for x in a] for y in a] for z in a] # generate magnitude for all possible triplets\n",
    "# generate magnitude approximation for all possible triplets\n",
    "mag_ap=[[[(np.max([x,y,z]) + np.median([x,y,z])/2 + np.min([x,y,z])/4) for x in a] for y in a] for z in a] \n",
    "# calculate error\n",
    "err=np.divide(mag_ap,mag)\n",
    "print(\"Max error: \",np.max(err),\", min error:\",np.min(err))"
   ]
  },
  {
   "cell_type": "markdown",
   "metadata": {
    "collapsed": true
   },
   "source": [
    "15% error is perfectly acceptable. It's even better, because error is always >=0, so relatively it's +-7.5%."
   ]
  }
 ],
 "metadata": {
  "hide_input": false,
  "kernelspec": {
   "display_name": "Python 3",
   "language": "python",
   "name": "python3"
  },
  "language_info": {
   "codemirror_mode": {
    "name": "ipython",
    "version": 3
   },
   "file_extension": ".py",
   "mimetype": "text/x-python",
   "name": "python",
   "nbconvert_exporter": "python",
   "pygments_lexer": "ipython3",
   "version": "3.5.1"
  },
  "toc": {
   "toc_cell": false,
   "toc_number_sections": false,
   "toc_threshold": 6,
   "toc_window_display": true
  }
 },
 "nbformat": 4,
 "nbformat_minor": 0
}
